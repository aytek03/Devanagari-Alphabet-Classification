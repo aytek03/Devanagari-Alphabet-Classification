{
 "cells": [
  {
   "cell_type": "code",
   "execution_count": 88,
   "metadata": {},
   "outputs": [],
   "source": [
    "import pandas as pd\n",
    "import numpy as np\n",
    "import cv2\n",
    "import matplotlib.pyplot as plt\n",
    "from PIL import Image\n",
    "data = pd.read_csv('devanagiri.csv')"
   ]
  },
  {
   "cell_type": "code",
   "execution_count": 19,
   "metadata": {
    "scrolled": true
   },
   "outputs": [
    {
     "name": "stdout",
     "output_type": "stream",
     "text": [
      "       label  x_0  x_1  x_2  x_3  x_4  x_5  x_6  x_7  x_8  ...  x_3062  \\\n",
      "0          i  211  243  254  211  243  254  210  242  253  ...     242   \n",
      "1         ti  201  229  236  205  232  239  202  230  235  ...     246   \n",
      "2          a  214  243  252  214  243  252  213  242  251  ...     233   \n",
      "3       smaa  212  241  250  212  241  250  212  241  250  ...     249   \n",
      "4        kaM  215  243  250  215  243  250  214  242  249  ...     241   \n",
      "...      ...  ...  ...  ...  ...  ...  ...  ...  ...  ...  ...     ...   \n",
      "7697      ga  193  229  240  192  228  241  192  228  241  ...     249   \n",
      "7698  chChaa  194  227  244  195  227  244  196  228  245  ...     247   \n",
      "7699      ma  192  230  246  188  226  242  189  227  243  ...     247   \n",
      "7700     taa  193  231  247  194  233  248  195  234  249  ...     240   \n",
      "7701      va  201  232  249  199  232  249  197  232  249  ...     250   \n",
      "\n",
      "      x_3063  x_3064  x_3065  x_3066  x_3067  x_3068  x_3069  x_3070  x_3071  \n",
      "0        211     240     245     213     242     247     213     242     247  \n",
      "1        206     234     245     204     233     242     204     233     242  \n",
      "2        193     222     231     192     221     230     192     221     230  \n",
      "3        213     241     252     212     240     251     210     238     249  \n",
      "4        201     231     241     201     231     242     202     232     243  \n",
      "...      ...     ...     ...     ...     ...     ...     ...     ...     ...  \n",
      "7697     196     232     248     196     232     248     195     231     247  \n",
      "7698     193     232     247     195     234     249     197     236     250  \n",
      "7699     194     233     248     194     233     248     194     233     248  \n",
      "7700     188     227     242     189     228     243     190     229     244  \n",
      "7701     195     234     249     195     234     249     195     234     249  \n",
      "\n",
      "[7702 rows x 3073 columns]\n"
     ]
    }
   ],
   "source": [
    "print(data)"
   ]
  },
  {
   "cell_type": "code",
   "execution_count": 20,
   "metadata": {},
   "outputs": [
    {
     "data": {
      "text/html": [
       "<div>\n",
       "<style scoped>\n",
       "    .dataframe tbody tr th:only-of-type {\n",
       "        vertical-align: middle;\n",
       "    }\n",
       "\n",
       "    .dataframe tbody tr th {\n",
       "        vertical-align: top;\n",
       "    }\n",
       "\n",
       "    .dataframe thead th {\n",
       "        text-align: right;\n",
       "    }\n",
       "</style>\n",
       "<table border=\"1\" class=\"dataframe\">\n",
       "  <thead>\n",
       "    <tr style=\"text-align: right;\">\n",
       "      <th></th>\n",
       "      <th>label</th>\n",
       "      <th>x_0</th>\n",
       "      <th>x_1</th>\n",
       "      <th>x_2</th>\n",
       "      <th>x_3</th>\n",
       "      <th>x_4</th>\n",
       "      <th>x_5</th>\n",
       "      <th>x_6</th>\n",
       "      <th>x_7</th>\n",
       "      <th>x_8</th>\n",
       "      <th>...</th>\n",
       "      <th>x_3062</th>\n",
       "      <th>x_3063</th>\n",
       "      <th>x_3064</th>\n",
       "      <th>x_3065</th>\n",
       "      <th>x_3066</th>\n",
       "      <th>x_3067</th>\n",
       "      <th>x_3068</th>\n",
       "      <th>x_3069</th>\n",
       "      <th>x_3070</th>\n",
       "      <th>x_3071</th>\n",
       "    </tr>\n",
       "  </thead>\n",
       "  <tbody>\n",
       "    <tr>\n",
       "      <th>0</th>\n",
       "      <td>i</td>\n",
       "      <td>211</td>\n",
       "      <td>243</td>\n",
       "      <td>254</td>\n",
       "      <td>211</td>\n",
       "      <td>243</td>\n",
       "      <td>254</td>\n",
       "      <td>210</td>\n",
       "      <td>242</td>\n",
       "      <td>253</td>\n",
       "      <td>...</td>\n",
       "      <td>242</td>\n",
       "      <td>211</td>\n",
       "      <td>240</td>\n",
       "      <td>245</td>\n",
       "      <td>213</td>\n",
       "      <td>242</td>\n",
       "      <td>247</td>\n",
       "      <td>213</td>\n",
       "      <td>242</td>\n",
       "      <td>247</td>\n",
       "    </tr>\n",
       "    <tr>\n",
       "      <th>1</th>\n",
       "      <td>ti</td>\n",
       "      <td>201</td>\n",
       "      <td>229</td>\n",
       "      <td>236</td>\n",
       "      <td>205</td>\n",
       "      <td>232</td>\n",
       "      <td>239</td>\n",
       "      <td>202</td>\n",
       "      <td>230</td>\n",
       "      <td>235</td>\n",
       "      <td>...</td>\n",
       "      <td>246</td>\n",
       "      <td>206</td>\n",
       "      <td>234</td>\n",
       "      <td>245</td>\n",
       "      <td>204</td>\n",
       "      <td>233</td>\n",
       "      <td>242</td>\n",
       "      <td>204</td>\n",
       "      <td>233</td>\n",
       "      <td>242</td>\n",
       "    </tr>\n",
       "    <tr>\n",
       "      <th>2</th>\n",
       "      <td>a</td>\n",
       "      <td>214</td>\n",
       "      <td>243</td>\n",
       "      <td>252</td>\n",
       "      <td>214</td>\n",
       "      <td>243</td>\n",
       "      <td>252</td>\n",
       "      <td>213</td>\n",
       "      <td>242</td>\n",
       "      <td>251</td>\n",
       "      <td>...</td>\n",
       "      <td>233</td>\n",
       "      <td>193</td>\n",
       "      <td>222</td>\n",
       "      <td>231</td>\n",
       "      <td>192</td>\n",
       "      <td>221</td>\n",
       "      <td>230</td>\n",
       "      <td>192</td>\n",
       "      <td>221</td>\n",
       "      <td>230</td>\n",
       "    </tr>\n",
       "    <tr>\n",
       "      <th>3</th>\n",
       "      <td>smaa</td>\n",
       "      <td>212</td>\n",
       "      <td>241</td>\n",
       "      <td>250</td>\n",
       "      <td>212</td>\n",
       "      <td>241</td>\n",
       "      <td>250</td>\n",
       "      <td>212</td>\n",
       "      <td>241</td>\n",
       "      <td>250</td>\n",
       "      <td>...</td>\n",
       "      <td>249</td>\n",
       "      <td>213</td>\n",
       "      <td>241</td>\n",
       "      <td>252</td>\n",
       "      <td>212</td>\n",
       "      <td>240</td>\n",
       "      <td>251</td>\n",
       "      <td>210</td>\n",
       "      <td>238</td>\n",
       "      <td>249</td>\n",
       "    </tr>\n",
       "    <tr>\n",
       "      <th>4</th>\n",
       "      <td>kaM</td>\n",
       "      <td>215</td>\n",
       "      <td>243</td>\n",
       "      <td>250</td>\n",
       "      <td>215</td>\n",
       "      <td>243</td>\n",
       "      <td>250</td>\n",
       "      <td>214</td>\n",
       "      <td>242</td>\n",
       "      <td>249</td>\n",
       "      <td>...</td>\n",
       "      <td>241</td>\n",
       "      <td>201</td>\n",
       "      <td>231</td>\n",
       "      <td>241</td>\n",
       "      <td>201</td>\n",
       "      <td>231</td>\n",
       "      <td>242</td>\n",
       "      <td>202</td>\n",
       "      <td>232</td>\n",
       "      <td>243</td>\n",
       "    </tr>\n",
       "  </tbody>\n",
       "</table>\n",
       "<p>5 rows × 3073 columns</p>\n",
       "</div>"
      ],
      "text/plain": [
       "  label  x_0  x_1  x_2  x_3  x_4  x_5  x_6  x_7  x_8  ...  x_3062  x_3063  \\\n",
       "0     i  211  243  254  211  243  254  210  242  253  ...     242     211   \n",
       "1    ti  201  229  236  205  232  239  202  230  235  ...     246     206   \n",
       "2     a  214  243  252  214  243  252  213  242  251  ...     233     193   \n",
       "3  smaa  212  241  250  212  241  250  212  241  250  ...     249     213   \n",
       "4   kaM  215  243  250  215  243  250  214  242  249  ...     241     201   \n",
       "\n",
       "   x_3064  x_3065  x_3066  x_3067  x_3068  x_3069  x_3070  x_3071  \n",
       "0     240     245     213     242     247     213     242     247  \n",
       "1     234     245     204     233     242     204     233     242  \n",
       "2     222     231     192     221     230     192     221     230  \n",
       "3     241     252     212     240     251     210     238     249  \n",
       "4     231     241     201     231     242     202     232     243  \n",
       "\n",
       "[5 rows x 3073 columns]"
      ]
     },
     "execution_count": 20,
     "metadata": {},
     "output_type": "execute_result"
    }
   ],
   "source": [
    "data.head()"
   ]
  },
  {
   "cell_type": "code",
   "execution_count": 21,
   "metadata": {},
   "outputs": [
    {
     "data": {
      "text/plain": [
       "0            i\n",
       "1           ti\n",
       "2            a\n",
       "3         smaa\n",
       "4          kaM\n",
       "         ...  \n",
       "7697        ga\n",
       "7698    chChaa\n",
       "7699        ma\n",
       "7700       taa\n",
       "7701        va\n",
       "Name: label, Length: 7702, dtype: object"
      ]
     },
     "execution_count": 21,
     "metadata": {},
     "output_type": "execute_result"
    }
   ],
   "source": [
    "data['label']"
   ]
  },
  {
   "cell_type": "code",
   "execution_count": 22,
   "metadata": {},
   "outputs": [
    {
     "data": {
      "text/plain": [
       "pandas.core.series.Series"
      ]
     },
     "execution_count": 22,
     "metadata": {},
     "output_type": "execute_result"
    }
   ],
   "source": [
    "type(data['label'])"
   ]
  },
  {
   "cell_type": "code",
   "execution_count": 23,
   "metadata": {},
   "outputs": [
    {
     "data": {
      "text/plain": [
       "pandas.core.frame.DataFrame"
      ]
     },
     "execution_count": 23,
     "metadata": {},
     "output_type": "execute_result"
    }
   ],
   "source": [
    "type(data)"
   ]
  },
  {
   "cell_type": "code",
   "execution_count": 24,
   "metadata": {},
   "outputs": [
    {
     "data": {
      "text/plain": [
       "(7702, 3073)"
      ]
     },
     "execution_count": 24,
     "metadata": {},
     "output_type": "execute_result"
    }
   ],
   "source": [
    "data.shape"
   ]
  },
  {
   "cell_type": "code",
   "execution_count": 93,
   "metadata": {},
   "outputs": [
    {
     "data": {
      "image/png": "[encoded data removed]",
      "text/plain": [
       "<Figure size 432x288 with 1 Axes>"
      ]
     },
     "metadata": {
      "needs_background": "light"
     },
     "output_type": "display_data"
    }
   ],
   "source": [
    "first_image = data.loc[0] # first row alındı\n",
    "first_image_numpy=first_image.to_numpy() #numpy a çevirdim\n",
    "first_image_numpy\n",
    "first_image_numpy_2 = np.delete(first_image_numpy, 0) # ilk elemanı sil\n",
    "first_image_numpy_3 = first_image_numpy_2.reshape((32, 32, 3))\n",
    "first_image_numpy_4 = first_image_numpy_3.astype('uint8') #change data type\n",
    "first_image_numpy_4\n",
    "plt.axis(\"off\") #piksel değerlerini çıkarıyor\n",
    "#plt.imshow(first_image_numpy_4) #3 boyutlu gösteriyor. 32 x32x 3\n",
    "#plt.show()\n",
    "#plt.savefig('i.png')\n",
    "im = Image.fromarray(first_image_numpy_4)\n",
    "#im.save(\"i.png\")"
   ]
  },
  {
   "cell_type": "code",
   "execution_count": 94,
   "metadata": {},
   "outputs": [
    {
     "data": {
      "image/png": "[encoded data removed]",
      "text/plain": [
       "<PIL.Image.Image image mode=RGB size=32x32 at 0x234D4971B20>"
      ]
     },
     "execution_count": 94,
     "metadata": {},
     "output_type": "execute_result"
    }
   ],
   "source": [
    "im"
   ]
  },
  {
   "cell_type": "code",
   "execution_count": 96,
   "metadata": {},
   "outputs": [
    {
     "data": {
      "text/plain": [
       "PIL.Image.Image"
      ]
     },
     "execution_count": 96,
     "metadata": {},
     "output_type": "execute_result"
    }
   ],
   "source": [
    "type(im)"
   ]
  },
  {
   "cell_type": "code",
   "execution_count": null,
   "metadata": {},
   "outputs": [],
   "source": []
  }
 ],
 "metadata": {
  "kernelspec": {
   "display_name": "Python 3 (ipykernel)",
   "language": "python",
   "name": "python3"
  },
  "language_info": {
   "codemirror_mode": {
    "name": "ipython",
    "version": 3
   },
   "file_extension": ".py",
   "mimetype": "text/x-python",
   "name": "python",
   "nbconvert_exporter": "python",
   "pygments_lexer": "ipython3",
   "version": "3.9.7"
  }
 },
 "nbformat": 4,
 "nbformat_minor": 2
}
